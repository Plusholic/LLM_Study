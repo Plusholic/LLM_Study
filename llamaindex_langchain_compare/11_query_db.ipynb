{
 "cells": [
  {
   "cell_type": "code",
   "execution_count": 5,
   "metadata": {},
   "outputs": [],
   "source": [
    "from sqlalchemy import create_engine, Column, Table, String, MetaData\n",
    "\n",
    "metadata_obj = MetaData()\n",
    "engine = create_engine('sqlite:///databases/cats.db', future=True)\n",
    "\n",
    "cat_breeds_table = Table(\n",
    "    \"cat_breeds\",\n",
    "    metadata_obj,\n",
    "    Column(\"name\", String(16), primary_key=True),\n",
    "    Column('origin', String(16), nullable=False),\n",
    "    Column('temperature',String(16), nullable=False),\n",
    "    Column('size',String(16), nullable=False),\n",
    "    Column('social_behavior', String(16), nullable=False)\n",
    ")\n",
    "\n",
    "metadata_obj.create_all(engine)"
   ]
  },
  {
   "cell_type": "code",
   "execution_count": 8,
   "metadata": {},
   "outputs": [],
   "source": [
    "from sqlalchemy import insert\n",
    "\n",
    "breeds_data = [\n",
    "    {\n",
    "        \"name\" : \"Savannah\",\n",
    "        \"origin\" : 'USA',\n",
    "        'temperature' : 'high energy',\n",
    "        'size' : 'Large',\n",
    "        'social_behavior' : 'sociable'\n",
    "    },\n",
    "    \n",
    "    {\n",
    "        \"name\" : \"Ragdoll\",\n",
    "        \"origin\" : 'USA',\n",
    "        'temperature' : 'gentle',\n",
    "        'size' : 'Large',\n",
    "        'social_behavior' : 'sociable'\n",
    "    },\n",
    "    \n",
    "    {\n",
    "        \"name\" : \"Maine Coon\",\n",
    "        \"origin\" : 'USA',\n",
    "        'temperature' : 'friendly',\n",
    "        'size' : 'Very Large',\n",
    "        'social_behavior' : 'sociable'\n",
    "    }\n",
    "    \n",
    "]\n",
    "\n",
    "for breed in breeds_data:\n",
    "    stmt = insert(cat_breeds_table).values(**breed)\n",
    "    with engine.connect() as connection:\n",
    "        cursor = connection.execute(stmt)\n",
    "        connection.commit()"
   ]
  },
  {
   "cell_type": "code",
   "execution_count": 9,
   "metadata": {},
   "outputs": [
    {
     "name": "stdout",
     "output_type": "stream",
     "text": [
      "[('Savannah', 'USA', 'high energy', 'Large', 'sociable'), ('Ragdoll', 'USA', 'gentle', 'Large', 'sociable'), ('Maine Coon', 'USA', 'friendly', 'Very Large', 'sociable')]\n"
     ]
    }
   ],
   "source": [
    "with engine.connect() as connection:\n",
    "    result = connection.exec_driver_sql(\"SELECT * FROM cat_breeds\")\n",
    "    print(result.fetchall())"
   ]
  },
  {
   "cell_type": "code",
   "execution_count": 10,
   "metadata": {},
   "outputs": [],
   "source": [
    "from llama_index import SQLDatabase\n",
    "\n",
    "sql_database = SQLDatabase(engine, include_tables=[\"cat_breeds\"])"
   ]
  },
  {
   "cell_type": "code",
   "execution_count": 11,
   "metadata": {},
   "outputs": [],
   "source": [
    "from llama_index.indices.struct_store import NLSQLTableQueryEngine\n",
    "\n",
    "query_engine = NLSQLTableQueryEngine(sql_database)"
   ]
  },
  {
   "cell_type": "code",
   "execution_count": 12,
   "metadata": {},
   "outputs": [],
   "source": [
    "response = query_engine.query('which cat is the biggest?')"
   ]
  },
  {
   "cell_type": "code",
   "execution_count": 13,
   "metadata": {},
   "outputs": [
    {
     "name": "stdout",
     "output_type": "stream",
     "text": [
      "The Maine Coon is the biggest cat breed.\n"
     ]
    }
   ],
   "source": [
    "print(response)"
   ]
  },
  {
   "cell_type": "code",
   "execution_count": 14,
   "metadata": {},
   "outputs": [
    {
     "data": {
      "text/plain": [
       "{'4f5c07d4-e912-4b14-a377-df20e9611b23': {},\n",
       " 'sql_query': 'SELECT name FROM cat_breeds ORDER BY size DESC LIMIT 1;',\n",
       " 'result': [('Maine Coon',)],\n",
       " 'col_keys': ['name']}"
      ]
     },
     "execution_count": 14,
     "metadata": {},
     "output_type": "execute_result"
    }
   ],
   "source": [
    "response.metadata"
   ]
  },
  {
   "cell_type": "code",
   "execution_count": 17,
   "metadata": {},
   "outputs": [],
   "source": [
    "from llama_index.indices.struct_store import NLSQLTableQueryEngine\n",
    "\n",
    "query_engine = NLSQLTableQueryEngine(\n",
    "    sql_database,\n",
    "    context_query_kwargs={\"cat_breeds\" :(\n",
    "        \"The only columns available are: name, origin, temperament, size, social_behavior. Do not use other columns and foreign keys. \\n\"\n",
    "        \"Do not attempt to run a query if the column is not among available columns. \\n\"\n",
    "        \"Do not use unexistant columns in a WHERE part of the query\\n\"\n",
    "        \n",
    "        )} # 모델에게 추가 지시\n",
    "    )\n",
    "\n",
    "response = query_engine.query('How long does a Ragdoll cat live?')"
   ]
  },
  {
   "cell_type": "code",
   "execution_count": 18,
   "metadata": {},
   "outputs": [
    {
     "data": {
      "text/plain": [
       "{'da7e0bf2-cf89-45a0-ad9f-576f68c8ef76': {},\n",
       " 'sql_query': \"SELECT name, life_expectancy\\nFROM cat_breeds\\nWHERE name = 'Ragdoll';\"}"
      ]
     },
     "execution_count": 18,
     "metadata": {},
     "output_type": "execute_result"
    }
   ],
   "source": [
    "response.metadata"
   ]
  }
 ],
 "metadata": {
  "kernelspec": {
   "display_name": "Python 3.10.13 ('llamaindex')",
   "language": "python",
   "name": "python3"
  },
  "language_info": {
   "codemirror_mode": {
    "name": "ipython",
    "version": 3
   },
   "file_extension": ".py",
   "mimetype": "text/x-python",
   "name": "python",
   "nbconvert_exporter": "python",
   "pygments_lexer": "ipython3",
   "version": "3.10.13"
  },
  "orig_nbformat": 4,
  "vscode": {
   "interpreter": {
    "hash": "f13b51dec9893a665284acd155bab776a7e14c668dd25de27de89f99a4571a06"
   }
  }
 },
 "nbformat": 4,
 "nbformat_minor": 2
}
