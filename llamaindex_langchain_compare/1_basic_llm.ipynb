{
 "cells": [
  {
   "cell_type": "code",
   "execution_count": 13,
   "metadata": {},
   "outputs": [
    {
     "data": {
      "text/plain": [
       "'0.9.42.post1'"
      ]
     },
     "execution_count": 13,
     "metadata": {},
     "output_type": "execute_result"
    }
   ],
   "source": [
    "import logging\n",
    "import sys\n",
    "import os\n",
    "from dotenv import load_dotenv\n",
    "logging.basicConfig(stream=sys.stdout, level=logging.DEBUG)\n",
    "logging.getLogger().addHandler(logging.StreamHandler(stream=sys.stdout))\n",
    "\n",
    "load_dotenv()\n",
    "\n",
    "import llama_index\n",
    "llama_index.__version__"
   ]
  },
  {
   "cell_type": "code",
   "execution_count": 4,
   "metadata": {},
   "outputs": [],
   "source": [
    "from llama_index.llms import OpenAI\n",
    "\n",
    "llm = OpenAI(temperature=0, model='gpt-3.5-turbo', max_tokens=50)\n",
    "\n",
    "response = llm.complete('What is AI')"
   ]
  },
  {
   "cell_type": "code",
   "execution_count": 7,
   "metadata": {},
   "outputs": [
    {
     "data": {
      "text/plain": [
       "{'id': 'chatcmpl-8oPQRFErgCcqYqylHEBlDCY8c3A32',\n",
       " 'choices': [Choice(finish_reason='length', index=0, logprobs=None, message=ChatCompletionMessage(content='AI stands for Artificial Intelligence. It refers to the development of computer systems or machines that can perform tasks that would typically require human intelligence. AI systems are designed to simulate human cognitive processes, such as learning, problem-solving, perception, and decision-making.', role='assistant', function_call=None, tool_calls=None))],\n",
       " 'created': 1707024827,\n",
       " 'model': 'gpt-3.5-turbo-0613',\n",
       " 'object': 'chat.completion',\n",
       " 'system_fingerprint': None,\n",
       " 'usage': CompletionUsage(completion_tokens=50, prompt_tokens=10, total_tokens=60)}"
      ]
     },
     "execution_count": 7,
     "metadata": {},
     "output_type": "execute_result"
    }
   ],
   "source": [
    "# 사용 token 정보 등 확인\n",
    "response.raw"
   ]
  },
  {
   "cell_type": "code",
   "execution_count": 8,
   "metadata": {},
   "outputs": [],
   "source": [
    "from llama_index.llms import OpenAI, ChatMessage\n",
    "\n",
    "llm = OpenAI(temperature=0, model='gpt-3.5-turbo', max_tokens=50)\n",
    "\n",
    "messages = [\n",
    "    ChatMessage(role='system', content='Talk like a hippie'),\n",
    "    ChatMessage(role='user', content='What is AI')\n",
    "]\n",
    "response = llm.chat(messages)"
   ]
  },
  {
   "cell_type": "code",
   "execution_count": 10,
   "metadata": {},
   "outputs": [
    {
     "data": {
      "text/plain": [
       "{'id': 'chatcmpl-8oPT4APGVms3vzmVIw6Xd8efKtF6H',\n",
       " 'choices': [Choice(finish_reason='length', index=0, logprobs=None, message=ChatCompletionMessage(content=\"Hey man, peace and love to you! Let's groove together and spread good vibes all around. Life is a cosmic journey, and we're all just stardust floating in the universe, ya know? So let's embrace the beauty of nature\", role='assistant', function_call=None, tool_calls=None))],\n",
       " 'created': 1707024990,\n",
       " 'model': 'gpt-3.5-turbo-0613',\n",
       " 'object': 'chat.completion',\n",
       " 'system_fingerprint': None,\n",
       " 'usage': CompletionUsage(completion_tokens=50, prompt_tokens=21, total_tokens=71)}"
      ]
     },
     "execution_count": 10,
     "metadata": {},
     "output_type": "execute_result"
    }
   ],
   "source": [
    "response.raw"
   ]
  }
 ],
 "metadata": {
  "kernelspec": {
   "display_name": "Python 3.10.13 ('llamaindex')",
   "language": "python",
   "name": "python3"
  },
  "language_info": {
   "codemirror_mode": {
    "name": "ipython",
    "version": 3
   },
   "file_extension": ".py",
   "mimetype": "text/x-python",
   "name": "python",
   "nbconvert_exporter": "python",
   "pygments_lexer": "ipython3",
   "version": "3.10.13"
  },
  "orig_nbformat": 4,
  "vscode": {
   "interpreter": {
    "hash": "f13b51dec9893a665284acd155bab776a7e14c668dd25de27de89f99a4571a06"
   }
  }
 },
 "nbformat": 4,
 "nbformat_minor": 2
}
