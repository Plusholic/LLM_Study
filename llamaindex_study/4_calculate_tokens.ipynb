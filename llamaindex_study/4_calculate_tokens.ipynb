{
 "cells": [
  {
   "cell_type": "code",
   "execution_count": 1,
   "metadata": {},
   "outputs": [
    {
     "data": {
      "text/plain": [
       "'0.9.42.post1'"
      ]
     },
     "execution_count": 1,
     "metadata": {},
     "output_type": "execute_result"
    }
   ],
   "source": [
    "# import logging\n",
    "# import sys\n",
    "import os\n",
    "from dotenv import load_dotenv\n",
    "# logging.basicConfig(stream=sys.stdout, level=logging.DEBUG)\n",
    "# logging.getLogger().addHandler(logging.StreamHandler(stream=sys.stdout))\n",
    "\n",
    "load_dotenv()\n",
    "\n",
    "import llama_index\n",
    "llama_index.__version__"
   ]
  },
  {
   "cell_type": "code",
   "execution_count": 2,
   "metadata": {},
   "outputs": [],
   "source": [
    "import tiktoken\n",
    "from llama_index import ServiceContext, set_global_service_context\n",
    "from llama_index.callbacks import CallbackManager, TokenCountingHandler\n",
    "\n",
    "# openai 에서 만든 tiktoken을 사용하여 토큰 수를 계산할 수 있음.\n",
    "token_counter = TokenCountingHandler(\n",
    "    tokenizer = tiktoken.encoding_for_model(\"text-embedding-ada-002\").encode,\n",
    "    verbose = True\n",
    ")\n",
    "callback_manager = CallbackManager([token_counter])\n",
    "service_context = ServiceContext.from_defaults(callback_manager=callback_manager)\n",
    "set_global_service_context(service_context) # global context로 설정해야 index를 load할 때에도 tiktoken이 작동함"
   ]
  },
  {
   "cell_type": "code",
   "execution_count": 3,
   "metadata": {},
   "outputs": [
    {
     "name": "stdout",
     "output_type": "stream",
     "text": [
      "Embedding Token Usage: 77885\n",
      "Embedding Token Usage: 53020\n",
      "persisting from disk\n",
      "130905\n"
     ]
    }
   ],
   "source": [
    "from llama_index import VectorStoreIndex, SimpleDirectoryReader, StorageContext, load_index_from_storage\n",
    "\n",
    "# 인덱스가 존재하는지 확인하고, 없을 때만 다시 빌드\n",
    "try:\n",
    "    storage_context = StorageContext.from_defaults(persist_dir='./storage/cache/papers/llama2/')\n",
    "    index = load_index_from_storage(storage_context)\n",
    "    print('loading from disk')\n",
    "except:\n",
    "    documents = SimpleDirectoryReader('assets').load_data()\n",
    "    # 노드 파싱, 임베딩\n",
    "    index = VectorStoreIndex.from_documents(documents=documents) #, service_context=service_context) global 이기 때문에 필요 x\n",
    "    # 인덱스를 디스크에 지속적으로 가지고 있음\n",
    "    index.storage_context.persist(persist_dir='./storage/cache/papers/llama2/')\n",
    "    print('persisting from disk')\n",
    "    \n",
    "print(token_counter.total_embedding_token_count)"
   ]
  },
  {
   "cell_type": "code",
   "execution_count": 4,
   "metadata": {},
   "outputs": [
    {
     "name": "stdout",
     "output_type": "stream",
     "text": [
      "Embedding Token Usage: 5\n",
      "LLM Prompt Token Usage: 1179\n",
      "LLM Completion Token Usage: 124\n",
      "embedding tokens : 5 \n",
      " LLM prompts : 1179 \n",
      " LLM completions : 124 \n",
      " Total LLM token count : 1303 \n",
      "\n",
      "Llama 2 is a collection of pretrained and fine-tuned large language models (LLMs) ranging in scale from 7 billion to 70 billion parameters. These models, specifically the Llama 2-Chat models, are optimized for dialogue use cases. They have been developed and released with the aim of outperforming open-source chat models on various benchmarks and potentially serving as a substitute for closed-source models. The approach to fine-tuning and safety improvements of Llama 2-Chat is described in detail to encourage the community to build on this work and contribute to the responsible development of LLMs.\n"
     ]
    }
   ],
   "source": [
    "token_counter.reset_counts()\n",
    "response = index.as_query_engine().query('what is llama2?')\n",
    "print('embedding tokens :', token_counter.total_embedding_token_count, '\\n',\n",
    "      'LLM prompts :', token_counter.prompt_llm_token_count, '\\n',\n",
    "      'LLM completions :', token_counter.completion_llm_token_count, '\\n',\n",
    "      'Total LLM token count :', token_counter.total_llm_token_count, '\\n',\n",
    ")\n",
    "print(response) # load 했기 때문에 token을 0개 사용함..? "
   ]
  }
 ],
 "metadata": {
  "kernelspec": {
   "display_name": "Python 3.10.13 ('llamaindex')",
   "language": "python",
   "name": "python3"
  },
  "language_info": {
   "codemirror_mode": {
    "name": "ipython",
    "version": 3
   },
   "file_extension": ".py",
   "mimetype": "text/x-python",
   "name": "python",
   "nbconvert_exporter": "python",
   "pygments_lexer": "ipython3",
   "version": "3.10.13"
  },
  "orig_nbformat": 4,
  "vscode": {
   "interpreter": {
    "hash": "f13b51dec9893a665284acd155bab776a7e14c668dd25de27de89f99a4571a06"
   }
  }
 },
 "nbformat": 4,
 "nbformat_minor": 2
}
