{
 "cells": [
  {
   "cell_type": "code",
   "execution_count": 1,
   "metadata": {},
   "outputs": [],
   "source": [
    "import smtplib\n",
    "from email.mime.multipart import MIMEMultipart\n",
    "from email.mime.text import MIMEText\n",
    "import openai"
   ]
  },
  {
   "cell_type": "code",
   "execution_count": 10,
   "metadata": {},
   "outputs": [
    {
     "ename": "IndexError",
     "evalue": "list index out of range",
     "output_type": "error",
     "traceback": [
      "\u001b[0;31m---------------------------------------------------------------------------\u001b[0m",
      "\u001b[0;31mIndexError\u001b[0m                                Traceback (most recent call last)",
      "Cell \u001b[0;32mIn[10], line 44\u001b[0m\n\u001b[1;32m     41\u001b[0m posts[cnt]\u001b[38;5;241m.\u001b[39mclick()\n\u001b[1;32m     43\u001b[0m time\u001b[38;5;241m.\u001b[39msleep(\u001b[38;5;241m1\u001b[39m)\n\u001b[0;32m---> 44\u001b[0m title \u001b[38;5;241m=\u001b[39m \u001b[43mdriver\u001b[49m\u001b[38;5;241;43m.\u001b[39;49m\u001b[43mfind_elements\u001b[49m\u001b[43m(\u001b[49m\u001b[43mBy\u001b[49m\u001b[38;5;241;43m.\u001b[39;49m\u001b[43mCSS_SELECTOR\u001b[49m\u001b[43m,\u001b[49m\u001b[43m \u001b[49m\u001b[38;5;124;43m'\u001b[39;49m\u001b[38;5;124;43mstrong.c.p15\u001b[39;49m\u001b[38;5;124;43m'\u001b[39;49m\u001b[43m)\u001b[49m\u001b[43m[\u001b[49m\u001b[38;5;241;43m0\u001b[39;49m\u001b[43m]\u001b[49m\u001b[38;5;241m.\u001b[39mtext\n\u001b[1;32m     45\u001b[0m contents \u001b[38;5;241m=\u001b[39m driver\u001b[38;5;241m.\u001b[39mfind_elements(By\u001b[38;5;241m.\u001b[39mCSS_SELECTOR, \u001b[38;5;124m'\u001b[39m\u001b[38;5;124mdiv#body.view_se\u001b[39m\u001b[38;5;124m'\u001b[39m)[\u001b[38;5;241m0\u001b[39m]\u001b[38;5;241m.\u001b[39mtext\n\u001b[1;32m     47\u001b[0m driver\u001b[38;5;241m.\u001b[39mback()\n",
      "\u001b[0;31mIndexError\u001b[0m: list index out of range"
     ]
    }
   ],
   "source": [
    "from selenium import webdriver\n",
    "from selenium.webdriver.common.by import By\n",
    "from selenium.webdriver.common.keys import Keys\n",
    "from selenium.webdriver.chrome.service import Service\n",
    "from webdriver_manager.chrome import ChromeDriverManager\n",
    "import time\n",
    "\n",
    "stock_dict = {}\n",
    "\n",
    "# 주식 코드 설정\n",
    "stock_code = \"005380\"\n",
    "\n",
    "# 네이버 금융 주식 게시판 URL\n",
    "url = f\"https://finance.naver.com/item/board.naver?code={stock_code}\"\n",
    "\n",
    "# ChromeDriver 설정\n",
    "driver = webdriver.Chrome(service=Service(ChromeDriverManager().install()))\n",
    "\n",
    "# 페이지 접근\n",
    "driver.get(url)\n",
    "\n",
    "# 게시물 제목을 클릭하여 상세 내용 접근\n",
    "\n",
    "\n",
    "# 각 게시물 클릭 후 내용 추출\n",
    "cnt = 0\n",
    "page_idx = 0\n",
    "while True:\n",
    "    \n",
    "    # 다음 페이지로 이동\n",
    "    if cnt >= len(posts):\n",
    "        page_idx += 1\n",
    "        tmp = driver.find_elements(By.CSS_SELECTOR, 'table.Nnavi')[0]\n",
    "        next_ = tmp.find_elements(By.CSS_SELECTOR, 'td')\n",
    "        next_[page_idx].click()\n",
    "        cnt = 0\n",
    "        if page_idx == 5:\n",
    "            break\n",
    "    \n",
    "    posts = driver.find_elements(By.CSS_SELECTOR, 'td.title a')\n",
    "    posts[cnt].click()\n",
    "    \n",
    "    time.sleep(1)\n",
    "    title = driver.find_elements(By.CSS_SELECTOR, 'strong.c.p15')[0].text\n",
    "    contents = driver.find_elements(By.CSS_SELECTOR, 'div#body.view_se')[0].text\n",
    "    \n",
    "    driver.back()\n",
    "    driver.refresh()\n",
    "    cnt += 1\n",
    "    stock_dict[title] = contents\n",
    "    \n",
    "    \n"
   ]
  },
  {
   "cell_type": "code",
   "execution_count": 11,
   "metadata": {},
   "outputs": [
    {
     "data": {
      "text/plain": [
       "{'내일은 아마 장초에는 이거라는 생각밖에': '와 4월 동안 해서 1400만원 달성....\\n\\n그저 장시작한후 5분~10분 안으로 잡으라는거 알려주는데 진짜 억소리나네\\n\\n오늘도 덕성 , 신진에스엠 , 제주은행 3개 알려준것들로만 280만원 챙겨감\\n매일같이 2~3개씩 알려주는대로 한것들 뿐인데 어느새 600만원인 돈이\\n어느덧 2천만원 까지찍음 ㄷㄷ..\\n\\n2년동안 주식하면서 4천가지고있던거 거의다날리고 이제 600만원 남은걸로 그냥 이거라도 지켜야하나 엄청 고민에 빠지다가 아는 지인이 본인도 여기서 복구 했다고 다른거 생각하지말고 1개월동안 지켜보고 2개월만에 본인도 가능했던거라 본인 믿어보라고 해서 믿고했는데\\n\\n처음에는 하나둘 수익본게 그저운이라고만 생각하면서 믿음이 안생겼는데\\n일주일 동안 꾸준히 수익보고 지금까지도 꾸준히 수익이 보다보니 믿음이생기네요.\\n\\nhttps://naver.me/50eNzCt9\\n\\n이곳인데 여태 혼자서 북치고 장구치고\\n계란으로 바위치기를 한건지 지금생각하면 너무나 후회 스럽고 고통의 시간이였지만 그래도 이제라도 가능성이 생겼\\n다는거에 너무나 기분좋네요.\\n\\n어짜피 돈안내고 하는곳이니 그냥 편하게 하시면될듯하네요.',\n",
       " '달러지수 오르면': '현차 기아는 날아가는거쥬\\n\\n다른건 떨어져도 수출로 먹고 사는 현기는 날아가는거쥬\\n\\n그리고 다음 일정도 기대하고 있구유\\n\\n\\nhttps://stockcal.vip/schedule\\n\\n\\n주식은 일정을 알아야 사고 팔수 있는거쥬\\n\\n무료니께 있을때 언넝 봐봐유\\n\\n좋으면 1번\\n\\n싫으면 2번',\n",
       " '현대차주,주님들': '불안하게 혼자 대응마세요 쉬운길 찾으세요\\nhttp://cheongdam.life/\\n\\n:!)\"..\".:,.!:.):)(,\\'^\\':.!',\n",
       " '세계최저 수수료에 300달러 투자금도 받아보세요': \"멕시에서 투자금 300달러를 지급하고 있습니다.\\n\\n현물투자와는 달리 선물투자는 '하방'으로도 투자 가능하며,\\n멕시의 선물투자는\\n① 증거금을 격리하여 계약할 수 있어 투자금 외의 계좌 잔고를 안전하게 지킬 수 있으며,\\n② 스탑로스 기능으로 손실을 제한하고, 테이크프라핏과 트리거 기능 등으로 최적화된 exit전략을 수립할 수 있고,\\n③ 기한약정 없는 무기한 계약방식으로 포지션의 만기일 때문에 시간에 쫓길 필요 없는데다,\\n④ 무이자로 레버리지비율을 1배부터 200배까지 자율선택계약 가능하고, 또한 이미 계약한 포지션의 레버리지를 자율조절도 할 수 있어,\\n⑤ 다른 지수선물이나 상품선물보다 안전한 방식을 선택하여 위기관리전략을 다양하게 수립할 수 있습니다.\\n\\nhttps://www.mexc.com/ko-KR/register?inviteCode=mexc-godrich\\n\\n위 링크로 신규가입하고 KYC 인증하면 300달러의 선물투자금을 증정하고, 공식파트너라 수수료 10% 환급도 해줍니다. 과거 사례로 볼 때 300달러라는 큰 금액 이벤트는 한시적이므로 서두르는 것이 좋습니다.\\n\\n이 정보를 접하신 것은 큰 행운입니다.\\n저 역시 멕시가\\n① 세계 5대 메이저 선물거래소 중 유일하게 한국어를 지원하고 있는 점,\\n② 세계최저 수수료(현물 0%, 선물 메이커 0%, 선물 테이커 0.01%)로 바이낸스, 업비트, 바이비트 등보다 10배 이상 저렴하거나 아예 무료인 점,\\n③ 지급증명 보고서를 매주 투명하게 제공하는 점,\\n④ 상담원들이 친절한 응대로 24시간 전화와 채팅 등을 통해 대기하고 있는 점,\\n⑤ 편리한 UI와 최적화된 App 및 정확하고 빠른 속도, 그럼에도 나아가 계속하여 기술력을 증진하고 있는 점,\\n⑥ 다양한 이벤트 증정금 등으로 부가수입까지 넉넉히 누릴 수 있는 점 등을 종합고려할 때 다른 거래소들 대비하여 만족도가 매우 높습니다.\\n\\n마지막으로 레버리지 선물투자는 고위험 투자로 위험강도 최고수준임을 명심하기 바랍니다. '투자자의 멘탈'이 위험해지기 때문에 강한 정신력이 필요하다는 것을 유념바랍니다.\\n\\n멕시만의 ‘수수료 제로의 현물투자’와 ‘하방으로도 투자가능한 자유로운 무이자 레버리지 선물투자’를 체험으로 300달러 받아 다양한 투자전략을 실험해 보세요.\",\n",
       " '■ 이복현 대통령님 밸류업 믿고 대출 신용몰빵!': '무조건 끝까지 들고간다\\n\\n인생역전 마지막 기회!',\n",
       " '환율': '환율이 달러당 1,380원을 장기 상회한 기간은 1997~1998년 IMF 외환위기, 2008~2009년 글로벌 금융위기, 2022년 하반기 레고랜드 사태 당시와 같은 시스템 위기 상황. 매년 4월은 결산 배당금 지급 시기로 외국인들의 배당 역송금(외환 유출)으로 인한 계절적 원화 약세 압력 존재. 대형주 배당지급일이 집중된 4/15~26 기간 환율 1,400원 돌파 가능성 주의',\n",
       " '하..': '난 국짐당이 싫은데???',\n",
       " '★(2월)업체별 배터리 점유율 분석_글로벌시장(2024년)': '★(2월)업체별 배터리 점유율 분석_글로벌시장(2024년)\\n\\n1. 중국시장 포함 : 업체별 배터리 점유율 분석\\n2. 중국시장 제외 : 업체별 배터리 점유율 분석\\n3. 1~3월 주요국가 전기차 판매량 분석\\n4. Tesla VS BYD 1Q(24년) 판매량 분석\\n\\nhttps://www.youtube.com/watch?v=UcDwPGwVup0&list=PLYYBepBvaC17IjQ1xkkRqmrxkNjUk5p9Z',\n",
       " '달러가 1400원을 넘어가면서 말이야': '롤스로이스를 타고 다니는 사람이\\n지하철을 타고 다니는 사람에게\\n자문을 구하는 유일한 곳\\n\\n아래 참고 필수\\n\\nhttps://www.tiktok.com/@kakaocs464/video/7358337967330544913?is_from_webapp=1&sender_device=pc&web_id=7357964751525578241\\n\\n인생에 있어서 모든 선택은 본인 몫이다',\n",
       " '환율상승호재!! 수출기업 현대차 벨류업 기간 전 매수시기': '현대차 주가 보합권 마무리!! 환율 상승 호재 기업으로 기업 밸류업 프로그램 발표 수혜주 다시 상승흐름 EPS와 주주환원율 기준 목표주가 계산치 이상 나오는 가운데 기업 실적과 주주환원, 목표주가 관련 좋은 정보 많네요\\n\\nhttps://m.blog.naver.com/wjdxor54/223365673185\\n\\n참고해주세요!!',\n",
       " '이제 여유좀 생기겠구나': '롤스로이스를 타고 다니는 사람이\\n지하철을 타고 다니는 사람에게\\n자문을 구하는 유일한 곳\\n\\n아래 참고 필수\\n\\nhttps://www.tiktok.com/@kakaocs464/video/7358337967330544913?is_from_webapp=1&sender_device=pc&web_id=7357964751525578241\\n\\n인생에 있어서 모든 선택은 본인 몫이다',\n",
       " '인버스로': '가야할때\\n더 늦기전에',\n",
       " '광주지역과 나주 그리고 전국 전세계 미국 포함 대통령도 속이고, 유흥가 치안불안과 불체자 영업 신고합니다.': '야구장 유흥주점. 위에 모텔있고, 신고합니다.\\n\\n불체자 외국인여성 고용해 손님도 없고, 폭력영업하여, 즉시 추방바랍니다.\\n\\n지역에 범죄자들 아지트와 불법 유흥모임지역입니다.\\n\\n정상손님 받는 곳이 아닙니다.\\n\\n처벌과 구속, 추방 바랍니다. 사살바랍니다. 순서없습니다.\\n\\n추가로, 광주시내 오피스텔 성매매 영업하는 곳들입니다.\\n\\n인터넷 사이트 주소는 https://jdal22.com/ 이런 식입니다.\\n\\n구글에 전라도달리기 검색하면 바로 나옵니다.\\n\\n이전에도 제 블로그에 신고했는데, 경찰이 대답이 없고, 국정원이 정보를 주지 않은 듯 보입니다. 신고합니다.\\n\\n국정원도 오피스텔 성매매사범들과 유착한 고리가 보입니다. 경찰도 유착하여 서로 막아주고 있습니다.\\n\\n제가 확인한 오피스텔 위치는 광주광역시 서구 쌍촌동 1004-10번지. 가도스타디움 전체.\\n\\n광주광역시 서구 상무대로 882 에드가리움. 최소 이 두곳입니다.\\n\\n전부 긴급체포 바랍니다.\\n\\n운영자들 연락처는 010-9590-7333 쌍촌동 1004-10번지 건이고,\\n\\n010-8058-4216 이건 에드가리움 건입니다.\\n\\n신고합니다. 반드시 잡아가 주시기 바랍니다.\\n\\n오피스텔 전체가 환락가이고, 관리부실에 시달리고 있습니다.\\n\\n주변은 황량하여 이미 오폐수가 넘쳐나고 주변 경관이 완전히 망가지고 있습니다.\\n\\n신고합니다.\\n\\n이 업체들로 바로 가는 링크주소입니다. 심각합니다. 전부 연락처 수백개를 전국적으로 다 모아,\\n\\n처벌바랍니다.\\n\\n강력범죄와 여성살인교사, 여성교사, 은닉교사, 횡령, 범죄, 강간, 사창가유인, 납치, 방화,\\n\\n살인, 방화, 특수방화, 특별방화, 국가내란과음모, 전부 연루된 특수범죄세력들이 전국 각 시도에 전부 퍼져 있습니다.\\n\\n전원 전부 조사하여, 오늘밤 내내 조사해, 한번에 모조리 도주하지 못하게 잡아주시기 바랍니다.\\n\\n사회가 무너지고 기강이 와해되고, 우리는 범죄에 시달려, 다시 이런 곳으로 쏠리고 있습니다.\\n\\n여성들이 누군지도 모르고, 외국인 여성들도 많이 보이고, 출장마사지 이런 곳들도 눈에 띄입니다.\\n\\n출장성매매도 호텔과 모텔 등에 전국 대도시와 외딴 곳들에도 마사지 해준다고 이상하게 생긴 여성들이 출입하게 방조되고 있습니다.\\n\\n역시 전원 처벌바랍니다.\\n\\n다 죽여서, 외국인 사창가 범죄를 뿌리 뽑아서, 국내 조폭과 윤석열 정권, 한동훈, 삼성그룹의 마각도 뿌리뽑고,\\n\\n삼성이 미국에 진출해서, 다시 미국에도 사창가와 유흥가를 뿌리내리고 사회불안과 긴장, 여성불안, 여성긴장,\\n\\n납치, 강력범죄를 심화시키고 있었습니다. 바이든이 노쇠하게 하여, 모르게 하고 사업만 한다고 자랑해, 의도를 감추고 접근하고 있습니다. 전부 신고합니다. 계속 신고합니다.\\n\\n제 수사자료와 신고자료는 전부 유포가 원칙입니다.\\n\\nhttps://jdal22.com/adverts/jeollado/gwangju',\n",
       " '이런 좋은 성문화를 가진곳이 있다고요?': '한국은 불가능한데',\n",
       " '8400원주는 결산배당 언제주나요': '19일 나오나요',\n",
       " '19일나오는 배당금 통지서 받았나요': '통지서 안날라오네요\\n받으신분 있나요',\n",
       " '양도세 원천징수': '주식 투자 해서 수익만 나는 사람은 없습니다,\\n\\n손실 나는 경우가 더 많죠\\n\\n, 그런데, 수익 날때 원천 징수 하고, 손실 날때는 나중에 반기든 아니면 년말에 수익이랑 손실 계산 해서,\\n\\n원천징수한 수익분을 환급 신청해야 하면, 이러면, 매우 번거럽고 자금 운용에 문제가 많습니다.\\n\\n거의 대다수 개인 투자자들이 떠날겁니다\\n\\n그리고 왜 양도세 원천징수를 하려고 할까 생각해 보면\\n\\n이건 아직 정확 하지는 않지만, 건보료 연동 시키기 편하게 하기 위해서 아닌가 싶습니다\\n\\n누가 금투세라는 형식으로 설계 했는지 모르지만\\n\\n이거 설계한 사람은 주식이나 펀드를 해 보지 않은 사람 같습니다\\n\\n거래세를 없애지 않고, 양도세를 원천징수로 신설 한거 보면,\\n\\n이거 설계한 사람도, 거래세를 없애면, 전에 거래세만 걷을때 보다\\n\\n정부 총 세수가 줄어 들거라는 걸 예상 하고, 아마도, 기존 거래세 낮춰서 유지 +원천징수 양도세 신설 --이런식으로 설계 했다고 추정해 봅니다',\n",
       " '2우b아재) 우선주와 본주 수급분석 (중기/증권사별/단기)': '2우b 최대 수급원 - 씨티글로벌벵크 ㅡ 오늘받아주지않았음\\n\\n모건서울 - 현대차 본주 / 2우b 엄청싫어함. 저pbr로 올라타서, 현대차본주껀 올라탄물량 거의다팔아가고(거래원확인바람)\\n\\njp모건 ㅡ 2우b주가 전에 우선주보다 못할정도로 강제로 20만주넘게 투척하고 종가로?는등, 탈출신공때문에 주가가 구겨졌던거고..\\n\\n\\n우선주들이 최근 약세를보이는 이유 - 모건서울, jp모건, 금융투자 ,, (과거 투신사껀 물량다?음. 지금 신규투신사)\\n\\n이때에 거래원에 순매수로 들어오는 기관/외국기관이 있어야하는데. 오늘은 막걸리(호주증권사 별명) 증권사가 대충받다말고 본주방어부터했음, 그리고 씨티아저씨가 오늘은 쉬엇음 ㅜㅜ 씨티아재의 공백이큼 (1일공백)\\n\\n\\n\\n본주또한 금융투자 물량이 거의다 소진되어가고. 모건서울이 소진되어가기때문에 이건 긍정적\\n\\n\\n\\nUBS ㅡ 아프리카TV 7%이상 지분확대하며 설거지당함 (다른 기관 외국기관 차익매물받이해주며. 호구잡혀줌)\\n오늘 돈이좀 필요했던듯 ㅡ 누가봐도 금리인하 피해주에, 유투브 네이버라는 대기업을 상대로 이기기힘든구조\\n(BJ좋아하는 애들은 다알고있음).. 코로나때 돈많을때 반짝 돈잘벌던거..\\n단기이벤트로, 해외기업이 철수반사이익관련주\\n\\n\\n모건서울 ㅡ 반도체 목숨걸면서 단타치다가 몇일간 똥퍼먹음;;; (자기가 주력이아닌종목은 차트를 부수듯팔며 반도체 사랑하다가 박살남 ㅜㅜ)\\n\\n연기금 ㅡ 2차전지 사랑을 너무하다가, 최근 박살중인데.. (에코프로머티는 연기금이 독박쓴종목 .. 남들차익을 고가권에서 다받아주다가 홀로남겨진 불쌍한 연기금) . 저pbr 단타치다가 뒤늦게 현대차본주 우선주 달라붙는중\\n\\n\\n씨티 글로벌마켓 ㅡ 주식 존나잘함 (치고빠지고 아모레퍼시픽 익절신공/기아차 익절신공/ 반도체단타신공 고수)\\n~~> 차익금으로 2우b 몇달동안 몇일쉬고 계속 샀었음\\n\\n\\nJp모건 ㅡ 반도체사랑이 지존급.... ㅡ 현대차본주 깔짝깔? 매매하면서, 우선주들을 단타물량모아서 ?아붙는 악성단타매물\\n\\n\\n막걸리증권 (메쿼리 ㅡ 호주증권) ㅡ 삼성 가이던스 1분기 예측 정확하게하며, 펀더멘탈 재무분석은 엄청잘한다고 평가받는중 (실적/펀더멘탈 증권정확도 굉장히높음)\\n\\n\\n금융투자 ㅡ 흔히말하는 증권사.... 좋은레포트쓰고 일단 익절하고나서, 팔아도 주가가계속올라가면 추격매수잘함. (팔면 내려가야되는데 올라가면 뒤늦게 추격매수)\\n\\n투신사/사모펀드 ㅡ 주식잘못하는 개미들에게 큰돈을 쥐여준것일뿐.....\\n\\n은행 ㅡ 극도의 보수적인 매매를하는곳 (안정성기반 낮은수익률)\\n\\n요로코롬 볼수있음\\n\\n\\n\\n본주의경우는 모건서울이 거의 물량 다빠져가기때문에 점점 가벼워지는거고.. 악성 금융투자물량이 많이빠져나갈수록 가벼워져감\\n\\n\\n\\n\\n*** 저PBR 악성 수급\\nㅡ 모건서울 (저 pbr에 올라타서, 똥오줌안가리고 익절보던물량 다빠져나가고있고 (거래원확인바람 날짜부터),, 그리고 자기가 주력으로산건 설거지당하는중 (삼성전자 확인요망. 600만주 몇백만주 84000원~ 사서 8만원 손절 패대기 (그조차\\n덜파는식으로 손실단타중)\\n\\n그외 금융투자 ㅡ 종가에서 매번찍다가, 이젠 물량이 많이소진되어가니 쉽게못찍음\\n\\n그외 연기금 ㅡ 저pbr주라 단타치다, 갑자기 자기주력들 설거지당하고, 본주 들어오기시작 /2우b랑 (그러길레 빠뎃아저씨 에코프로머티 이딴거들, 혼자 독박써서 무리하게 고점에서 물량다받아주고 설거지당하냐고)\\n\\n\\n본주경우 저pbr 막성매물이 많이소화?고, 우선주는 바퀴벌레같은 단타수급때문에 시간이 좀더걸리는중\\n\\n저pbr 악성수급이 떨려야 간다 (모건서울(거래창구 -날짜부터확인) 처럼 저런 수급남아있으면 올라갈때마다 찍는다)\\n\\n모건서울은 자기가 좋아하는 삼성가서 설거지나 실컷당했으면 좋겠다!! 남종목 건들지말고',\n",
       " '점점 가벼워지고 있는 느낌': '기관들이나 개인들이 많이 팔아서 인지 탄력이 좋은 느낌입니다.\\n외국인들은 아마두 올해 내내 살것입니다.',\n",
       " '환율 1400원, 오히려 좋아…코스피 내릴 때 현대차 기아는 역주행': '환차익 누릴 수 있어 수혜\\n\\n16일 코스피 지수는 중동발(發) 지정학적 리스크에 미국의 기준금리 인하 시점 지연 가능성에 2% 넘게 빠졌는데, 자동차주는 상승 시동을 걸었다. 국제 정세가 불안정해지자 미 달러화 대비 원화(원·달러) 오르면서 수혜를 본 것이다. 자동차 회사와 같은 우리나라 수출 기업에 환율은 상승은 호재로 작용한다.',\n",
       " '홍발쩡조만간심규진교수명예회송고발하긋구나말쌈에지고몬사는틀딱!이준새하고도찐개찐! 이준새살살구슬려갸가당대표하고2027대선경선때홍틀딱미러주라고?준새': '심규진이런취지? \"홍준표틀딱신났다2027대선후보는 나혼자다! 걸그적거리는것들은다가라!\\n, ★★尹정부 망했다고ㅡㅡㅡㅡㅡㅡㅡ 잔치라도 난듯★★ \"\\n\"또또또 \\'조국수홍\\' 모드로 저급한 입주뎅이놀려★\\n\"영길이 풀어주고 돈봉투 다 풀어주자고?\\n맥락없는 제2의 조국수홍을 하네칵!.\\n대선때 ㅡㅡㅡㅡㅡㅡㅡㅡㅡ조구기 감쌌던 홍 시장의 전력을\\n\"내가 홍준표라면요,\\n정 한동훈 밀치고 대선 나가고 싶다면요, ㅡ\\n\\'이제 우리가 윤석열 정권 지킵시다.\\n이준석 무리가ㅡ 또 제2의 탄핵을 획책하고 있어요\\n. 나는 탄핵으로 무너진 우리당을 지켰습니다\\n. 이번에는 우리가 만든 윤석열 대통령 지키겠습니다\\n. 그리고 좌파들을 당에 끌어들인 한동훈을 용서치 않겠습니다\\'(라고 할 것)\"\"이렇게 말하면ㅡㅡㅡㅡㅡㅡㅡㅡㅡㅡㅡㅡㅡ 지금 상심하고 공포에 쩔어있는 보수들이 열광하고 ㅡㅡㅡㅡㅡㅡㅡㅡ역시 믿을 건 원조 보수, 선명 보수 홍준표! 뿐이야 할 텐데,\\n또또또입방정!\\'조국수홍\\' 모드로 가볍고 오락가락 저급한 언사를하네.\\n\"역시 사람 안 변한다\\n\"이렇게 맥락없이ㅡㅡㅡㅡㅡㅡㅡㅡ 윤짜장정부 망했다고 잔치라도 난 듯 ㅡ경망스러운 좌파 2중대 짓을 하는 사람에게 ㅡ어떻게 보수의 운명을 맡길 수 있겠나요?\"\\n\"송영길을 풀어달라니ㅡㅡㅡㅡㅡ. 변희재를 책사로 쓰시려나?\".\\n자신의 저서에서ㅡㅡㅡㅡㅡㅡㅡ 분량상 삭제했던★★★ 홍준표 관련 부분을 복원\\n지난 대선때 홍 시장의 행보ㅡㅡㅡㅡ \"민주당 지지자들의 역선택으로 자신이 부상하자\\n오히려ㅡㅡㅡㅡ 전통적인 자신의 지지층이나 보수 지지층의 바람과는 정반대로ㅡㅡㅡㅡㅡㅡㅡㅡㅡㅡ 조국을 옹호\\n민주당 지지자들에게 잘 보여ㅡㅡㅡ 역선택으로 보수당의 대통령이 되려는 생각을 한 것\"\\n\"우리 ‘편’이 아니라ㅡㅡㅡㅡㅡㅡㅡㅡㅡ 기회주의적으로 저쪽 편에 립서비스를 하는 홍준표는ㅡㅡㅡㅡ 결국 기존 지지층에게 연속된 선거의 “패배의 아이콘”으로 상기됐을 뿐\".\\n\"윤석열이라는 거물 신인이ㅡㅡㅡㅡ 국민의힘에 영입되자\\n, 여지없이ㅡㅡㅡㅡㅡㅡㅡㅡㅡㅡㅡㅡㅡㅡㅡㅡㅡㅡㅡㅡㅡㅡㅡㅡㅡ 못된 시어머니 시누이 마인드,\\n새로 온 연습생에게 텃세를 부리는 만년 연습생의 마인드를ㅡㅡㅡㅡ 노출했는데…\\n대권을 ㅡㅡㅡ정치 선언한지 일년도 안 된 햇병아리에게\\n빼앗겼다는 ★★★★★★★★★질투심과 열등감★★ㅡㅡㅡㅡㅡㅡㅡ 홍준표의 오락가락하는 내부 총질의 행보를 읽어내는 아주 주요한 키워드\"\\n홍발정의 행보는 질투심과 열등감이다\\n\\n총선 결과ㅡ\\n\"중도정치/정론은 패배\\n. 혐오와 증오의 \\'대중화\\'가 ㅡㅡㅡㅡ암혹한 정치현실을 지배하고 있을 뿐\".\\n★★★★★★★제가 한동훈에게 기대를 갖고 지지하는 것은ㅡㅡㅡㅡㅡㅡㅡㅡㅡㅡㅡㅡㅡㅡㅡㅡㅡㅡ제가 지향하는 정치의 세대교체 시스템의 복원\\n그라고 선진화 갈등해소 등\\n이같은 저의 정치적 가치관에\\n부합하는 정치인이라서지\\n, 내가 동후니모든 것을 무조건 추종하고 찬성해서가 아니다알긋냐 \"극단적인 시각으로 왜곡하지 않으며ㅡ 중심을 잡고 불의에 싸우는 용기 있는 소신 있는\\n합리적인 가치관에 ㅡ근거한 정치는 지지\\n, 그렇지 않은 ㅡ\\n갈라치기\\n혐오\\n도덕적 파산의 ㅡㅡㅡ정치선동가들은 매섭게 비판할 것\".'}"
      ]
     },
     "execution_count": 11,
     "metadata": {},
     "output_type": "execute_result"
    }
   ],
   "source": [
    "stock_dict"
   ]
  },
  {
   "cell_type": "code",
   "execution_count": 59,
   "metadata": {},
   "outputs": [],
   "source": []
  },
  {
   "cell_type": "code",
   "execution_count": 50,
   "metadata": {},
   "outputs": [],
   "source": [
    "driver.refresh()"
   ]
  },
  {
   "cell_type": "code",
   "execution_count": 57,
   "metadata": {},
   "outputs": [
    {
     "ename": "StaleElementReferenceException",
     "evalue": "Message: stale element reference: stale element not found\n  (Session info: chrome=123.0.6312.124); For documentation on this error, please visit: https://www.selenium.dev/documentation/webdriver/troubleshooting/errors#stale-element-reference-exception\nStacktrace:\n0   chromedriver                        0x00000001051584a4 chromedriver + 4326564\n1   chromedriver                        0x000000010515096c chromedriver + 4295020\n2   chromedriver                        0x0000000104d7c088 chromedriver + 278664\n3   chromedriver                        0x0000000104d89db8 chromedriver + 335288\n4   chromedriver                        0x0000000104d81370 chromedriver + 299888\n5   chromedriver                        0x0000000104d7fc14 chromedriver + 293908\n6   chromedriver                        0x0000000104d82428 chromedriver + 304168\n7   chromedriver                        0x0000000104d824a0 chromedriver + 304288\n8   chromedriver                        0x0000000104dc0450 chromedriver + 558160\n9   chromedriver                        0x0000000104db5264 chromedriver + 512612\n10  chromedriver                        0x0000000104db4dd0 chromedriver + 511440\n11  chromedriver                        0x0000000104df74f8 chromedriver + 783608\n12  chromedriver                        0x0000000104db34e4 chromedriver + 505060\n13  chromedriver                        0x0000000104db3f5c chromedriver + 507740\n14  chromedriver                        0x000000010511ba40 chromedriver + 4078144\n15  chromedriver                        0x00000001051207f8 chromedriver + 4098040\n16  chromedriver                        0x00000001051025e4 chromedriver + 3974628\n17  chromedriver                        0x0000000105121110 chromedriver + 4100368\n18  chromedriver                        0x00000001050f3bd4 chromedriver + 3914708\n19  chromedriver                        0x0000000105141718 chromedriver + 4232984\n20  chromedriver                        0x0000000105141894 chromedriver + 4233364\n21  chromedriver                        0x00000001051505e0 chromedriver + 4294112\n22  libsystem_pthread.dylib             0x0000000190a77034 _pthread_start + 136\n23  libsystem_pthread.dylib             0x0000000190a71e3c thread_start + 8\n",
     "output_type": "error",
     "traceback": [
      "\u001b[0;31m---------------------------------------------------------------------------\u001b[0m",
      "\u001b[0;31mStaleElementReferenceException\u001b[0m            Traceback (most recent call last)",
      "Cell \u001b[0;32mIn[57], line 1\u001b[0m\n\u001b[0;32m----> 1\u001b[0m \u001b[43mnext_\u001b[49m\u001b[43m[\u001b[49m\u001b[38;5;241;43m1\u001b[39;49m\u001b[43m]\u001b[49m\u001b[38;5;241;43m.\u001b[39;49m\u001b[43mclick\u001b[49m\u001b[43m(\u001b[49m\u001b[43m)\u001b[49m\n",
      "File \u001b[0;32m/opt/homebrew/Caskroom/miniforge/base/envs/llamaindex/lib/python3.10/site-packages/selenium/webdriver/remote/webelement.py:94\u001b[0m, in \u001b[0;36mWebElement.click\u001b[0;34m(self)\u001b[0m\n\u001b[1;32m     92\u001b[0m \u001b[38;5;28;01mdef\u001b[39;00m \u001b[38;5;21mclick\u001b[39m(\u001b[38;5;28mself\u001b[39m) \u001b[38;5;241m-\u001b[39m\u001b[38;5;241m>\u001b[39m \u001b[38;5;28;01mNone\u001b[39;00m:\n\u001b[1;32m     93\u001b[0m \u001b[38;5;250m    \u001b[39m\u001b[38;5;124;03m\"\"\"Clicks the element.\"\"\"\u001b[39;00m\n\u001b[0;32m---> 94\u001b[0m     \u001b[38;5;28;43mself\u001b[39;49m\u001b[38;5;241;43m.\u001b[39;49m\u001b[43m_execute\u001b[49m\u001b[43m(\u001b[49m\u001b[43mCommand\u001b[49m\u001b[38;5;241;43m.\u001b[39;49m\u001b[43mCLICK_ELEMENT\u001b[49m\u001b[43m)\u001b[49m\n",
      "File \u001b[0;32m/opt/homebrew/Caskroom/miniforge/base/envs/llamaindex/lib/python3.10/site-packages/selenium/webdriver/remote/webelement.py:395\u001b[0m, in \u001b[0;36mWebElement._execute\u001b[0;34m(self, command, params)\u001b[0m\n\u001b[1;32m    393\u001b[0m     params \u001b[38;5;241m=\u001b[39m {}\n\u001b[1;32m    394\u001b[0m params[\u001b[38;5;124m\"\u001b[39m\u001b[38;5;124mid\u001b[39m\u001b[38;5;124m\"\u001b[39m] \u001b[38;5;241m=\u001b[39m \u001b[38;5;28mself\u001b[39m\u001b[38;5;241m.\u001b[39m_id\n\u001b[0;32m--> 395\u001b[0m \u001b[38;5;28;01mreturn\u001b[39;00m \u001b[38;5;28;43mself\u001b[39;49m\u001b[38;5;241;43m.\u001b[39;49m\u001b[43m_parent\u001b[49m\u001b[38;5;241;43m.\u001b[39;49m\u001b[43mexecute\u001b[49m\u001b[43m(\u001b[49m\u001b[43mcommand\u001b[49m\u001b[43m,\u001b[49m\u001b[43m \u001b[49m\u001b[43mparams\u001b[49m\u001b[43m)\u001b[49m\n",
      "File \u001b[0;32m/opt/homebrew/Caskroom/miniforge/base/envs/llamaindex/lib/python3.10/site-packages/selenium/webdriver/remote/webdriver.py:347\u001b[0m, in \u001b[0;36mWebDriver.execute\u001b[0;34m(self, driver_command, params)\u001b[0m\n\u001b[1;32m    345\u001b[0m response \u001b[38;5;241m=\u001b[39m \u001b[38;5;28mself\u001b[39m\u001b[38;5;241m.\u001b[39mcommand_executor\u001b[38;5;241m.\u001b[39mexecute(driver_command, params)\n\u001b[1;32m    346\u001b[0m \u001b[38;5;28;01mif\u001b[39;00m response:\n\u001b[0;32m--> 347\u001b[0m     \u001b[38;5;28;43mself\u001b[39;49m\u001b[38;5;241;43m.\u001b[39;49m\u001b[43merror_handler\u001b[49m\u001b[38;5;241;43m.\u001b[39;49m\u001b[43mcheck_response\u001b[49m\u001b[43m(\u001b[49m\u001b[43mresponse\u001b[49m\u001b[43m)\u001b[49m\n\u001b[1;32m    348\u001b[0m     response[\u001b[38;5;124m\"\u001b[39m\u001b[38;5;124mvalue\u001b[39m\u001b[38;5;124m\"\u001b[39m] \u001b[38;5;241m=\u001b[39m \u001b[38;5;28mself\u001b[39m\u001b[38;5;241m.\u001b[39m_unwrap_value(response\u001b[38;5;241m.\u001b[39mget(\u001b[38;5;124m\"\u001b[39m\u001b[38;5;124mvalue\u001b[39m\u001b[38;5;124m\"\u001b[39m, \u001b[38;5;28;01mNone\u001b[39;00m))\n\u001b[1;32m    349\u001b[0m     \u001b[38;5;28;01mreturn\u001b[39;00m response\n",
      "File \u001b[0;32m/opt/homebrew/Caskroom/miniforge/base/envs/llamaindex/lib/python3.10/site-packages/selenium/webdriver/remote/errorhandler.py:229\u001b[0m, in \u001b[0;36mErrorHandler.check_response\u001b[0;34m(self, response)\u001b[0m\n\u001b[1;32m    227\u001b[0m         alert_text \u001b[38;5;241m=\u001b[39m value[\u001b[38;5;124m\"\u001b[39m\u001b[38;5;124malert\u001b[39m\u001b[38;5;124m\"\u001b[39m]\u001b[38;5;241m.\u001b[39mget(\u001b[38;5;124m\"\u001b[39m\u001b[38;5;124mtext\u001b[39m\u001b[38;5;124m\"\u001b[39m)\n\u001b[1;32m    228\u001b[0m     \u001b[38;5;28;01mraise\u001b[39;00m exception_class(message, screen, stacktrace, alert_text)  \u001b[38;5;66;03m# type: ignore[call-arg]  # mypy is not smart enough here\u001b[39;00m\n\u001b[0;32m--> 229\u001b[0m \u001b[38;5;28;01mraise\u001b[39;00m exception_class(message, screen, stacktrace)\n",
      "\u001b[0;31mStaleElementReferenceException\u001b[0m: Message: stale element reference: stale element not found\n  (Session info: chrome=123.0.6312.124); For documentation on this error, please visit: https://www.selenium.dev/documentation/webdriver/troubleshooting/errors#stale-element-reference-exception\nStacktrace:\n0   chromedriver                        0x00000001051584a4 chromedriver + 4326564\n1   chromedriver                        0x000000010515096c chromedriver + 4295020\n2   chromedriver                        0x0000000104d7c088 chromedriver + 278664\n3   chromedriver                        0x0000000104d89db8 chromedriver + 335288\n4   chromedriver                        0x0000000104d81370 chromedriver + 299888\n5   chromedriver                        0x0000000104d7fc14 chromedriver + 293908\n6   chromedriver                        0x0000000104d82428 chromedriver + 304168\n7   chromedriver                        0x0000000104d824a0 chromedriver + 304288\n8   chromedriver                        0x0000000104dc0450 chromedriver + 558160\n9   chromedriver                        0x0000000104db5264 chromedriver + 512612\n10  chromedriver                        0x0000000104db4dd0 chromedriver + 511440\n11  chromedriver                        0x0000000104df74f8 chromedriver + 783608\n12  chromedriver                        0x0000000104db34e4 chromedriver + 505060\n13  chromedriver                        0x0000000104db3f5c chromedriver + 507740\n14  chromedriver                        0x000000010511ba40 chromedriver + 4078144\n15  chromedriver                        0x00000001051207f8 chromedriver + 4098040\n16  chromedriver                        0x00000001051025e4 chromedriver + 3974628\n17  chromedriver                        0x0000000105121110 chromedriver + 4100368\n18  chromedriver                        0x00000001050f3bd4 chromedriver + 3914708\n19  chromedriver                        0x0000000105141718 chromedriver + 4232984\n20  chromedriver                        0x0000000105141894 chromedriver + 4233364\n21  chromedriver                        0x00000001051505e0 chromedriver + 4294112\n22  libsystem_pthread.dylib             0x0000000190a77034 _pthread_start + 136\n23  libsystem_pthread.dylib             0x0000000190a71e3c thread_start + 8\n"
     ]
    }
   ],
   "source": []
  },
  {
   "cell_type": "markdown",
   "metadata": {},
   "source": []
  },
  {
   "cell_type": "code",
   "execution_count": 11,
   "metadata": {},
   "outputs": [
    {
     "name": "stdout",
     "output_type": "stream",
     "text": [
      "★★★주식담보대출/신용 금리이벤트★★★\n",
      "현대차는 고평가 거품주 큰 폭락이 와야....\n",
      "\t\t\t\t[2]\n",
      "현대차는 고평가 거품주 큰 폭락이 와야....\n",
      "벨류업 저 pbr 상승! 현대차 24만원...\n",
      "투자가 힘드신 분들만 보세요.\n",
      "중국 상하이입니다\n",
      "\t\t\t\t[2]\n",
      "오늘밤\n",
      "응아할때끙끙대는절므니들꼭일그보길!\n",
      "★★★주식담보대출/신용 금리이벤트★★★\n",
      "금투세(수익의 22%이상) 폐지 청원 동...\n",
      "■ 이복현 대통령님 밸류업 믿고 대출 신...\n",
      "오잉?\n",
      "오늘입성요 242500\n",
      "주식을~\n",
      "환율을볼때더오를것같습니돠.ㅡ\n",
      "정배열되었는데 ...\n",
      "\t\t\t\t[1]\n",
      "현대차는 개미가 망치는종목이다\n",
      "오늘\n",
      "Gv 70 하이브리드\n",
      "\t\t\t\t[4]\n",
      "현대자동차(005380) 레포트\n"
     ]
    }
   ],
   "source": [
    "# 주식 뉴스 크롤링\n",
    "import requests\n",
    "from bs4 import BeautifulSoup\n",
    "\n",
    "# 종목 코드 (예: 현대차의 종목 코드인 005380)\n",
    "stock_code = \"005380\"\n",
    "\n",
    "# 종목 게시판 URL\n",
    "url = f\"https://finance.naver.com/item/board.naver?code={stock_code}\"\n",
    "\n",
    "# HTTP GET 요청을 보내고 페이지 내용을 가져옴\n",
    "# header 부분을 넣어주지 않으면, 네이버에서 bot으로 판단해서 크롤링을 막음\n",
    "headers = {'User-Agent' : 'Mozilla/5.0 (Macintosh; Intel Mac OS X 10_15_3)'}\n",
    "\n",
    "response = requests.get(url, headers=headers)\n",
    "\n",
    "# 페이지 내용을 파싱하기 위해 BeautifulSoup 사용\n",
    "soup = BeautifulSoup(response.text, 'html.parser')\n",
    "\n",
    "# 글 제목 추출 (td.title 요소에서)\n",
    "titles = soup.select('td.title')\n",
    "\n",
    "titles_ = ''\n",
    "# 추출된 글 제목을 출력\n",
    "for title in titles:\n",
    "    print(title.text.strip())\n",
    "    titles_ += title.text.strip() + '\\n\\n'\n",
    "# 논문 크롤링"
   ]
  },
  {
   "cell_type": "code",
   "execution_count": 6,
   "metadata": {},
   "outputs": [],
   "source": [
    "# 네이버 계정 정보\n",
    "naver_user = 'bm99093'\n",
    "naver_password = 's5.o8.5n'\n",
    "\n",
    "# 받는 사람 이메일 주소\n",
    "recipient_email = 'bm99093@naver.com'\n"
   ]
  },
  {
   "cell_type": "code",
   "execution_count": 12,
   "metadata": {},
   "outputs": [],
   "source": [
    "# 메시지 객체 생성\n",
    "msg = MIMEMultipart()\n",
    "msg['From'] = naver_user + '@naver.com'\n",
    "msg['To'] = recipient_email\n",
    "msg['Subject'] = '파이썬을 통한 네이버 메일 테스트'\n",
    "\n",
    "# 이메일 본문 내용\n",
    "body = '이 메일은 파이썬 스크립트를 통해 발송된 테스트 메일입니다.'\n",
    "msg.attach(MIMEText(body + titles_, 'plain'))\n"
   ]
  },
  {
   "cell_type": "code",
   "execution_count": 13,
   "metadata": {},
   "outputs": [
    {
     "data": {
      "text/plain": [
       "(221, b'2.0.0 Closing connection 2H-nTZa6QJuQ1O8XnKAleA - nsmtp')"
      ]
     },
     "execution_count": 13,
     "metadata": {},
     "output_type": "execute_result"
    }
   ],
   "source": [
    "# SMTP 서버 연결\n",
    "server = smtplib.SMTP_SSL('smtp.naver.com', 465)\n",
    "server.login(naver_user, naver_password)\n",
    "\n",
    "# 이메일 전송\n",
    "server.sendmail(msg['From'], msg['To'], msg.as_string())\n",
    "server.quit()\n"
   ]
  }
 ],
 "metadata": {
  "kernelspec": {
   "display_name": "llamaindex",
   "language": "python",
   "name": "python3"
  },
  "language_info": {
   "codemirror_mode": {
    "name": "ipython",
    "version": 3
   },
   "file_extension": ".py",
   "mimetype": "text/x-python",
   "name": "python",
   "nbconvert_exporter": "python",
   "pygments_lexer": "ipython3",
   "version": "3.10.13"
  }
 },
 "nbformat": 4,
 "nbformat_minor": 2
}
